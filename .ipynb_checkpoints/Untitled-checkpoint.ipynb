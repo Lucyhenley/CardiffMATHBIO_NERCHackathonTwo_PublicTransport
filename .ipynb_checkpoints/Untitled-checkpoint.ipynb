{
 "cells": [
  {
   "cell_type": "code",
   "execution_count": 7,
   "metadata": {},
   "outputs": [
    {
     "name": "stderr",
     "output_type": "stream",
     "text": [
      "┌ Info: Precompiling StatsPlots [f3b207a7-027a-5e70-b257-86293d7955fd]\n",
      "└ @ Base loading.jl:1260\n"
     ]
    }
   ],
   "source": [
    "using JuliaDB, Plots, StatsPlots"
   ]
  },
  {
   "cell_type": "code",
   "execution_count": 10,
   "metadata": {},
   "outputs": [
    {
     "data": {
      "text/plain": [
       "Table with 185 rows, 4 columns:\n",
       "Month       Passengers  Air_Transport_Movements  Cargo\n",
       "───────────────────────────────────────────────────────\n",
       "0001-01-05  5141123     39139                    98781\n",
       "0001-02-05  4753591     35723                    99555\n",
       "0001-03-05  5708627     39634                    109388\n",
       "0001-04-05  5573022     39096                    108058\n",
       "0001-05-05  5636621     40432                    110613\n",
       "0001-06-05  6000208     39640                    109861\n",
       "0001-07-05  6456943     41049                    110844\n",
       "0001-08-05  6120139     40260                    103194\n",
       "0001-09-05  6042020     39928                    109000\n",
       "0001-10-05  5713074     40597                    124648\n",
       "0001-11-05  5208222     38468                    111801\n",
       "0001-12-05  5332860     38020                    110233\n",
       "⋮\n",
       "0001-07-19  7754139     42062                    130589\n",
       "0001-08-19  7680327     41952                    126864\n",
       "0001-09-19  6777115     38986                    125693\n",
       "0001-10-19  6992010     41247                    137784\n",
       "0001-11-19  6233801     37945                    134328\n",
       "0001-12-19  6696079     38310                    126171\n",
       "0001-01-20  6099370     37936                    115894\n",
       "0001-02-20  5441862     35232                    115859\n",
       "0001-03-20  3106845     25798                    100857\n",
       "0001-04-20  206324      4868                     50949\n",
       "0001-05-20  227230      6355                     77781"
      ]
     },
     "execution_count": 10,
     "metadata": {},
     "output_type": "execute_result"
    }
   ],
   "source": [
    "flights = loadtable(\"heathrow_flights.csv\")"
   ]
  },
  {
   "cell_type": "code",
   "execution_count": 12,
   "metadata": {},
   "outputs": [
    {
     "data": {
      "image/svg+xml": [
       "<?xml version=\"1.0\" encoding=\"utf-8\"?>\n",
       "<svg xmlns=\"http://www.w3.org/2000/svg\" xmlns:xlink=\"http://www.w3.org/1999/xlink\" width=\"600\" height=\"400\" viewBox=\"0 0 2400 1600\">\n",
       "<defs>\n",
       "  <clipPath id=\"clip6200\">\n",
       "    <rect x=\"0\" y=\"0\" width=\"2400\" height=\"1600\"/>\n",
       "  </clipPath>\n",
       "</defs>\n",
       "<path clip-path=\"url(#clip6200)\" d=\"\n",
       "M0 1600 L2400 1600 L2400 0 L0 0  Z\n",
       "  \" fill=\"#ffffff\" fill-rule=\"evenodd\" fill-opacity=\"1\"/>\n",
       "<defs>\n",
       "  <clipPath id=\"clip6201\">\n",
       "    <rect x=\"480\" y=\"0\" width=\"1681\" height=\"1600\"/>\n",
       "  </clipPath>\n",
       "</defs>\n",
       "<path clip-path=\"url(#clip6200)\" d=\"\n",
       "M260.273 1487.47 L2352.76 1487.47 L2352.76 47.2441 L260.273 47.2441  Z\n",
       "  \" fill=\"#ffffff\" fill-rule=\"evenodd\" fill-opacity=\"1\"/>\n",
       "<defs>\n",
       "  <clipPath id=\"clip6202\">\n",
       "    <rect x=\"260\" y=\"47\" width=\"2093\" height=\"1441\"/>\n",
       "  </clipPath>\n",
       "</defs>\n",
       "<polyline clip-path=\"url(#clip6202)\" style=\"stroke:#000000; stroke-width:2; stroke-opacity:0.1; fill:none\" points=\"\n",
       "  308.766,1487.47 308.766,47.2441 \n",
       "  \"/>\n",
       "<polyline clip-path=\"url(#clip6202)\" style=\"stroke:#000000; stroke-width:2; stroke-opacity:0.1; fill:none\" points=\"\n",
       "  845.19,1487.47 845.19,47.2441 \n",
       "  \"/>\n",
       "<polyline clip-path=\"url(#clip6202)\" style=\"stroke:#000000; stroke-width:2; stroke-opacity:0.1; fill:none\" points=\"\n",
       "  1381.61,1487.47 1381.61,47.2441 \n",
       "  \"/>\n",
       "<polyline clip-path=\"url(#clip6202)\" style=\"stroke:#000000; stroke-width:2; stroke-opacity:0.1; fill:none\" points=\"\n",
       "  1918.04,1487.47 1918.04,47.2441 \n",
       "  \"/>\n",
       "<polyline clip-path=\"url(#clip6202)\" style=\"stroke:#000000; stroke-width:2; stroke-opacity:0.1; fill:none\" points=\"\n",
       "  260.273,1483.57 2352.76,1483.57 \n",
       "  \"/>\n",
       "<polyline clip-path=\"url(#clip6202)\" style=\"stroke:#000000; stroke-width:2; stroke-opacity:0.1; fill:none\" points=\"\n",
       "  260.273,1126.3 2352.76,1126.3 \n",
       "  \"/>\n",
       "<polyline clip-path=\"url(#clip6202)\" style=\"stroke:#000000; stroke-width:2; stroke-opacity:0.1; fill:none\" points=\"\n",
       "  260.273,769.024 2352.76,769.024 \n",
       "  \"/>\n",
       "<polyline clip-path=\"url(#clip6202)\" style=\"stroke:#000000; stroke-width:2; stroke-opacity:0.1; fill:none\" points=\"\n",
       "  260.273,411.75 2352.76,411.75 \n",
       "  \"/>\n",
       "<polyline clip-path=\"url(#clip6202)\" style=\"stroke:#000000; stroke-width:2; stroke-opacity:0.1; fill:none\" points=\"\n",
       "  260.273,54.4768 2352.76,54.4768 \n",
       "  \"/>\n",
       "<polyline clip-path=\"url(#clip6200)\" style=\"stroke:#000000; stroke-width:4; stroke-opacity:1; fill:none\" points=\"\n",
       "  260.273,1487.47 2352.76,1487.47 \n",
       "  \"/>\n",
       "<polyline clip-path=\"url(#clip6200)\" style=\"stroke:#000000; stroke-width:4; stroke-opacity:1; fill:none\" points=\"\n",
       "  260.273,1487.47 260.273,47.2441 \n",
       "  \"/>\n",
       "<polyline clip-path=\"url(#clip6200)\" style=\"stroke:#000000; stroke-width:4; stroke-opacity:1; fill:none\" points=\"\n",
       "  308.766,1487.47 308.766,1470.19 \n",
       "  \"/>\n",
       "<polyline clip-path=\"url(#clip6200)\" style=\"stroke:#000000; stroke-width:4; stroke-opacity:1; fill:none\" points=\"\n",
       "  845.19,1487.47 845.19,1470.19 \n",
       "  \"/>\n",
       "<polyline clip-path=\"url(#clip6200)\" style=\"stroke:#000000; stroke-width:4; stroke-opacity:1; fill:none\" points=\"\n",
       "  1381.61,1487.47 1381.61,1470.19 \n",
       "  \"/>\n",
       "<polyline clip-path=\"url(#clip6200)\" style=\"stroke:#000000; stroke-width:4; stroke-opacity:1; fill:none\" points=\"\n",
       "  1918.04,1487.47 1918.04,1470.19 \n",
       "  \"/>\n",
       "<polyline clip-path=\"url(#clip6200)\" style=\"stroke:#000000; stroke-width:4; stroke-opacity:1; fill:none\" points=\"\n",
       "  260.273,1483.57 285.383,1483.57 \n",
       "  \"/>\n",
       "<polyline clip-path=\"url(#clip6200)\" style=\"stroke:#000000; stroke-width:4; stroke-opacity:1; fill:none\" points=\"\n",
       "  260.273,1126.3 285.383,1126.3 \n",
       "  \"/>\n",
       "<polyline clip-path=\"url(#clip6200)\" style=\"stroke:#000000; stroke-width:4; stroke-opacity:1; fill:none\" points=\"\n",
       "  260.273,769.024 285.383,769.024 \n",
       "  \"/>\n",
       "<polyline clip-path=\"url(#clip6200)\" style=\"stroke:#000000; stroke-width:4; stroke-opacity:1; fill:none\" points=\"\n",
       "  260.273,411.75 285.383,411.75 \n",
       "  \"/>\n",
       "<polyline clip-path=\"url(#clip6200)\" style=\"stroke:#000000; stroke-width:4; stroke-opacity:1; fill:none\" points=\"\n",
       "  260.273,54.4768 285.383,54.4768 \n",
       "  \"/>\n",
       "<g clip-path=\"url(#clip6200)\">\n",
       "<text style=\"fill:#000000; fill-opacity:1; font-family:Arial,Helvetica Neue,Helvetica,sans-serif; font-size:48px; text-anchor:middle;\" transform=\"rotate(0, 308.766, 1541.47)\" x=\"308.766\" y=\"1541.47\">0</text>\n",
       "</g>\n",
       "<g clip-path=\"url(#clip6200)\">\n",
       "<text style=\"fill:#000000; fill-opacity:1; font-family:Arial,Helvetica Neue,Helvetica,sans-serif; font-size:48px; text-anchor:middle;\" transform=\"rotate(0, 845.19, 1541.47)\" x=\"845.19\" y=\"1541.47\">50</text>\n",
       "</g>\n",
       "<g clip-path=\"url(#clip6200)\">\n",
       "<text style=\"fill:#000000; fill-opacity:1; font-family:Arial,Helvetica Neue,Helvetica,sans-serif; font-size:48px; text-anchor:middle;\" transform=\"rotate(0, 1381.61, 1541.47)\" x=\"1381.61\" y=\"1541.47\">100</text>\n",
       "</g>\n",
       "<g clip-path=\"url(#clip6200)\">\n",
       "<text style=\"fill:#000000; fill-opacity:1; font-family:Arial,Helvetica Neue,Helvetica,sans-serif; font-size:48px; text-anchor:middle;\" transform=\"rotate(0, 1918.04, 1541.47)\" x=\"1918.04\" y=\"1541.47\">150</text>\n",
       "</g>\n",
       "<g clip-path=\"url(#clip6200)\">\n",
       "<text style=\"fill:#000000; fill-opacity:1; font-family:Arial,Helvetica Neue,Helvetica,sans-serif; font-size:48px; text-anchor:end;\" transform=\"rotate(0, 236.273, 1501.07)\" x=\"236.273\" y=\"1501.07\">0</text>\n",
       "</g>\n",
       "<g clip-path=\"url(#clip6200)\">\n",
       "<text style=\"fill:#000000; fill-opacity:1; font-family:Arial,Helvetica Neue,Helvetica,sans-serif; font-size:48px; text-anchor:start;\" transform=\"rotate(0, 106.132, 1150.02)\" x=\"106.132\" y=\"1150.02\">2×10</text>\n",
       "</g>\n",
       "<g clip-path=\"url(#clip6200)\">\n",
       "<text style=\"fill:#000000; fill-opacity:1; font-family:Arial,Helvetica Neue,Helvetica,sans-serif; font-size:38px; text-anchor:start;\" transform=\"rotate(0, 214.529, 1122.61)\" x=\"214.529\" y=\"1122.61\">6</text>\n",
       "</g>\n",
       "<g clip-path=\"url(#clip6200)\">\n",
       "<text style=\"fill:#000000; fill-opacity:1; font-family:Arial,Helvetica Neue,Helvetica,sans-serif; font-size:48px; text-anchor:start;\" transform=\"rotate(0, 106.132, 792.751)\" x=\"106.132\" y=\"792.751\">4×10</text>\n",
       "</g>\n",
       "<g clip-path=\"url(#clip6200)\">\n",
       "<text style=\"fill:#000000; fill-opacity:1; font-family:Arial,Helvetica Neue,Helvetica,sans-serif; font-size:38px; text-anchor:start;\" transform=\"rotate(0, 214.529, 765.341)\" x=\"214.529\" y=\"765.341\">6</text>\n",
       "</g>\n",
       "<g clip-path=\"url(#clip6200)\">\n",
       "<text style=\"fill:#000000; fill-opacity:1; font-family:Arial,Helvetica Neue,Helvetica,sans-serif; font-size:48px; text-anchor:start;\" transform=\"rotate(0, 106.132, 435.478)\" x=\"106.132\" y=\"435.478\">6×10</text>\n",
       "</g>\n",
       "<g clip-path=\"url(#clip6200)\">\n",
       "<text style=\"fill:#000000; fill-opacity:1; font-family:Arial,Helvetica Neue,Helvetica,sans-serif; font-size:38px; text-anchor:start;\" transform=\"rotate(0, 214.529, 408.067)\" x=\"214.529\" y=\"408.067\">6</text>\n",
       "</g>\n",
       "<g clip-path=\"url(#clip6200)\">\n",
       "<text style=\"fill:#000000; fill-opacity:1; font-family:Arial,Helvetica Neue,Helvetica,sans-serif; font-size:48px; text-anchor:start;\" transform=\"rotate(0, 106.132, 78.2044)\" x=\"106.132\" y=\"78.2044\">8×10</text>\n",
       "</g>\n",
       "<g clip-path=\"url(#clip6200)\">\n",
       "<text style=\"fill:#000000; fill-opacity:1; font-family:Arial,Helvetica Neue,Helvetica,sans-serif; font-size:38px; text-anchor:start;\" transform=\"rotate(0, 214.529, 50.794)\" x=\"214.529\" y=\"50.794\">6</text>\n",
       "</g>\n",
       "<polyline clip-path=\"url(#clip6202)\" style=\"stroke:#009af9; stroke-width:4; stroke-opacity:1; fill:none\" points=\"\n",
       "  319.495,565.177 330.223,634.405 340.952,463.8 351.68,488.024 362.409,476.663 373.137,411.713 383.866,330.123 394.594,390.289 405.322,404.244 416.051,463.006 \n",
       "  426.779,553.191 437.508,530.926 448.236,570.251 458.965,637.781 469.693,502.651 480.422,445.346 491.15,462.351 501.879,389.915 512.607,316.521 523.336,413.938 \n",
       "  534.064,430.196 544.793,477.758 555.521,572.685 566.25,553.546 576.978,588.036 587.707,654.434 598.435,474.813 609.164,471.134 619.892,481.306 630.621,409.153 \n",
       "  641.349,336.824 652.077,344.198 662.806,407.792 673.534,439.606 684.263,550.739 694.991,523.407 705.72,597.91 716.448,621.104 727.177,481.013 737.905,506.801 \n",
       "  748.634,475.138 759.362,419.14 770.091,337.141 780.819,346.42 791.548,446.994 802.276,477.775 813.005,595.419 823.733,545.429 834.462,616.612 845.19,702.777 \n",
       "  855.919,555.808 866.647,480.955 877.376,514.504 888.104,451.796 898.833,326.456 909.561,343.209 920.289,450.405 931.018,467.585 941.746,585.253 952.475,533.915 \n",
       "  963.203,620.739 973.932,661.769 984.66,552.538 995.389,689.257 1006.12,544.697 1016.85,450.505 1027.57,285.654 1038.3,314.841 1049.03,372.232 1059.76,394.335 \n",
       "  1070.49,546.949 1081.22,624.472 1091.95,580.968 1102.67,657.962 1113.4,531.178 1124.13,438.803 1134.86,435.767 1145.59,385.493 1156.32,255.887 1167.04,307.169 \n",
       "  1177.77,356.212 1188.5,408.273 1199.23,551.29 1209.96,497.985 1220.69,560.105 1231.42,626.331 1242.14,465.854 1252.87,438.694 1263.6,441.79 1274.33,367.885 \n",
       "  1285.06,309.99 1295.79,329.735 1306.51,349.954 1317.24,409.649 1327.97,522.302 1338.7,478.691 1349.43,557.353 1360.16,617.442 1370.89,425.85 1381.61,446.284 \n",
       "  1392.34,392.952 1403.07,316.727 1413.8,245.558 1424.53,240.34 1435.26,311.872 1445.98,360.072 1456.71,516.904 1467.44,450.175 1478.17,521.812 1488.9,608.524 \n",
       "  1499.63,455.816 1510.36,377.142 1521.08,369.464 1531.81,304.452 1542.54,239.302 1553.27,223.99 1564,308.553 1574.73,355.446 1585.46,505.886 1596.18,425.021 \n",
       "  1606.91,509.163 1617.64,598.558 1628.37,420.516 1639.1,385.967 1649.83,350.561 1660.55,291.137 1671.28,180.903 1682.01,173.61 1692.74,274.877 1703.47,311.285 \n",
       "  1714.2,486.406 1724.93,429.424 1735.65,499.69 1746.38,558.344 1757.11,393.714 1767.84,403.314 1778.57,359.47 1789.3,303.248 1800.02,153.779 1810.75,172.582 \n",
       "  1821.48,270.126 1832.21,325.899 1842.94,461.566 1853.67,382.562 1864.4,458.291 1875.12,542.812 1885.85,383.911 1896.58,281.05 1907.31,326.715 1918.04,276.34 \n",
       "  1928.77,138.003 1939.49,147.317 1950.22,245.832 1960.95,293.194 1971.68,425.972 1982.41,351.753 1993.14,446.643 2003.87,520.387 2014.59,323.727 2025.32,307.859 \n",
       "  2036.05,290.82 2046.78,210.869 2057.51,88.0053 2068.24,113.079 2078.97,236.303 2089.69,241.327 2100.42,391.428 2111.15,323.238 2121.88,424.694 2132.61,504.233 \n",
       "  2143.34,317.521 2154.06,269.16 2164.79,274.396 2175.52,189.097 2186.25,98.3966 2196.98,111.582 2207.71,272.929 2218.44,234.541 2229.16,369.985 2239.89,287.405 \n",
       "  2250.62,393.999 2261.35,511.454 2272.08,928.574 2282.81,1446.71 2293.53,1442.98 \n",
       "  \"/>\n",
       "<path clip-path=\"url(#clip6200)\" d=\"\n",
       "M1989.93 251.724 L2280.76 251.724 L2280.76 130.764 L1989.93 130.764  Z\n",
       "  \" fill=\"#ffffff\" fill-rule=\"evenodd\" fill-opacity=\"1\"/>\n",
       "<polyline clip-path=\"url(#clip6200)\" style=\"stroke:#000000; stroke-width:4; stroke-opacity:1; fill:none\" points=\"\n",
       "  1989.93,251.724 2280.76,251.724 2280.76,130.764 1989.93,130.764 1989.93,251.724 \n",
       "  \"/>\n",
       "<polyline clip-path=\"url(#clip6200)\" style=\"stroke:#009af9; stroke-width:4; stroke-opacity:1; fill:none\" points=\"\n",
       "  2013.93,191.244 2157.93,191.244 \n",
       "  \"/>\n",
       "<g clip-path=\"url(#clip6200)\">\n",
       "<text style=\"fill:#000000; fill-opacity:1; font-family:Arial,Helvetica Neue,Helvetica,sans-serif; font-size:48px; text-anchor:start;\" transform=\"rotate(0, 2181.93, 208.744)\" x=\"2181.93\" y=\"208.744\">y1</text>\n",
       "</g>\n",
       "</svg>\n"
      ]
     },
     "execution_count": 12,
     "metadata": {},
     "output_type": "execute_result"
    }
   ],
   "source": [
    "@df flights plot(:Passengers)"
   ]
  },
  {
   "cell_type": "code",
   "execution_count": 13,
   "metadata": {},
   "outputs": [
    {
     "data": {
      "text/plain": [
       "2"
      ]
     },
     "execution_count": 13,
     "metadata": {},
     "output_type": "execute_result"
    }
   ],
   "source": [
    "length = 15.55\n",
    "width = 2.7\n",
    "distance_Measure = 2\n",
    "capacity = "
   ]
  },
  {
   "cell_type": "code",
   "execution_count": null,
   "metadata": {},
   "outputs": [],
   "source": []
  }
 ],
 "metadata": {
  "kernelspec": {
   "display_name": "Julia 1.4.0",
   "language": "julia",
   "name": "julia-1.4"
  },
  "language_info": {
   "file_extension": ".jl",
   "mimetype": "application/julia",
   "name": "julia",
   "version": "1.4.0"
  }
 },
 "nbformat": 4,
 "nbformat_minor": 2
}
